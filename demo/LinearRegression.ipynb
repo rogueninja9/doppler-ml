{
 "cells": [
  {
   "cell_type": "code",
   "execution_count": 9,
   "id": "8fb2eded-7158-43d0-9421-af054c5a73ba",
   "metadata": {},
   "outputs": [],
   "source": [
    "import numpy as np\n",
    "\n",
    "import matplotlib.pyplot as plt\n",
    "import seaborn as sns\n",
    "\n",
    "from dopplerml.models import LinearRegression\n",
    "from sklearn.metrics import r2_score"
   ]
  },
  {
   "cell_type": "code",
   "execution_count": 2,
   "id": "24171177-5fa8-435e-8241-9072ac148f3c",
   "metadata": {},
   "outputs": [],
   "source": [
    "np.random.seed(0)"
   ]
  },
  {
   "cell_type": "code",
   "execution_count": 3,
   "id": "fe5c68b7-3419-4214-ae99-2a5033424690",
   "metadata": {},
   "outputs": [],
   "source": [
    "x1 = np.random.randint(0,1000,500)\n",
    "error = np.random.randn(500)*50\n",
    "m=0.6\n",
    "c=100\n",
    "y = m*x1+c+error"
   ]
  },
  {
   "cell_type": "code",
   "execution_count": 4,
   "id": "62140c71-6f68-47ce-ac7d-ceb7e853341e",
   "metadata": {},
   "outputs": [
    {
     "data": {
      "image/png": "[encoded data removed]",
      "text/plain": [
       "<Figure size 432x288 with 1 Axes>"
      ]
     },
     "metadata": {
      "needs_background": "light"
     },
     "output_type": "display_data"
    }
   ],
   "source": [
    "plt.scatter(x1,y, s=0.1)\n",
    "plt.xlabel('x1')\n",
    "plt.ylabel('y')\n",
    "plt.show()"
   ]
  },
  {
   "cell_type": "code",
   "execution_count": 11,
   "id": "38caaa04-361c-4f15-b9ff-e12a7278173b",
   "metadata": {},
   "outputs": [],
   "source": [
    "lr = LinearRegression()"
   ]
  },
  {
   "cell_type": "code",
   "execution_count": 12,
   "id": "a5c4fd51-79a9-4f11-b8be-24edfe91f31b",
   "metadata": {},
   "outputs": [],
   "source": [
    "lr.fit(x1.reshape(x1.shape[0],1),y.reshape(y.shape[0],1))"
   ]
  },
  {
   "cell_type": "code",
   "execution_count": 13,
   "id": "231e8481-f673-44e2-bb9f-bb2716787299",
   "metadata": {},
   "outputs": [
    {
     "data": {
      "text/plain": [
       "array([ 0.72415918, 10.89460958])"
      ]
     },
     "execution_count": 13,
     "metadata": {},
     "output_type": "execute_result"
    }
   ],
   "source": [
    "lr.coeff_"
   ]
  },
  {
   "cell_type": "code",
   "execution_count": 14,
   "id": "809778ce-fb34-489f-b07f-7bafe435ca7f",
   "metadata": {},
   "outputs": [
    {
     "data": {
      "text/plain": [
       "0.910520421786065"
      ]
     },
     "execution_count": 14,
     "metadata": {},
     "output_type": "execute_result"
    }
   ],
   "source": [
    "r2_score(lr.predict(x1.reshape(x1.shape[0],1)), y.reshape(y.shape[0],1))"
   ]
  },
  {
   "cell_type": "code",
   "execution_count": null,
   "id": "42456092-d4c5-439f-8f90-27e5cdec4127",
   "metadata": {},
   "outputs": [],
   "source": []
  }
 ],
 "metadata": {
  "kernelspec": {
   "display_name": "Python 3 (ipykernel)",
   "language": "python",
   "name": "python3"
  },
  "language_info": {
   "codemirror_mode": {
    "name": "ipython",
    "version": 3
   },
   "file_extension": ".py",
   "mimetype": "text/x-python",
   "name": "python",
   "nbconvert_exporter": "python",
   "pygments_lexer": "ipython3",
   "version": "3.9.13"
  }
 },
 "nbformat": 4,
 "nbformat_minor": 5
}
